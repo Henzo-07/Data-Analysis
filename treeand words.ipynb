{
 "cells": [
  {
   "cell_type": "code",
   "execution_count": null,
   "id": "1f35b6a6",
   "metadata": {},
   "outputs": [],
   "source": [
    "import numpy as np\n",
    "import pandas as pd\n",
    "import seaborn as sns\n",
    "import matplotlib.pyplot as plt"
   ]
  },
  {
   "cell_type": "code",
   "execution_count": 74,
   "id": "0b61c54d",
   "metadata": {},
   "outputs": [
    {
     "data": {
      "text/html": [
       "<div>\n",
       "<style scoped>\n",
       "    .dataframe tbody tr th:only-of-type {\n",
       "        vertical-align: middle;\n",
       "    }\n",
       "\n",
       "    .dataframe tbody tr th {\n",
       "        vertical-align: top;\n",
       "    }\n",
       "\n",
       "    .dataframe thead th {\n",
       "        text-align: right;\n",
       "    }\n",
       "</style>\n",
       "<table border=\"1\" class=\"dataframe\">\n",
       "  <thead>\n",
       "    <tr style=\"text-align: right;\">\n",
       "      <th></th>\n",
       "      <th>URL</th>\n",
       "      <th>Impressions</th>\n",
       "      <th>Clicks</th>\n",
       "      <th>Document size</th>\n",
       "      <th>Backlinks</th>\n",
       "    </tr>\n",
       "  </thead>\n",
       "  <tbody>\n",
       "    <tr>\n",
       "      <th>0</th>\n",
       "      <td>https://treesandwoods.com/giant-sequoias-frequ...</td>\n",
       "      <td>1485</td>\n",
       "      <td>48</td>\n",
       "      <td>95485</td>\n",
       "      <td>0</td>\n",
       "    </tr>\n",
       "    <tr>\n",
       "      <th>1</th>\n",
       "      <td>https://treesandwoods.com/using-sycamore-wood</td>\n",
       "      <td>359</td>\n",
       "      <td>27</td>\n",
       "      <td>92243</td>\n",
       "      <td>0</td>\n",
       "    </tr>\n",
       "    <tr>\n",
       "      <th>2</th>\n",
       "      <td>https://treesandwoods.com/the-pomegranate-root...</td>\n",
       "      <td>254</td>\n",
       "      <td>23</td>\n",
       "      <td>101972</td>\n",
       "      <td>0</td>\n",
       "    </tr>\n",
       "    <tr>\n",
       "      <th>3</th>\n",
       "      <td>https://treesandwoods.com/sycamore-tree-root</td>\n",
       "      <td>349</td>\n",
       "      <td>20</td>\n",
       "      <td>97375</td>\n",
       "      <td>1</td>\n",
       "    </tr>\n",
       "    <tr>\n",
       "      <th>4</th>\n",
       "      <td>https://treesandwoods.com/sequoia-tree-seeds</td>\n",
       "      <td>408</td>\n",
       "      <td>15</td>\n",
       "      <td>96821</td>\n",
       "      <td>0</td>\n",
       "    </tr>\n",
       "  </tbody>\n",
       "</table>\n",
       "</div>"
      ],
      "text/plain": [
       "                                                 URL  Impressions  Clicks  \\\n",
       "0  https://treesandwoods.com/giant-sequoias-frequ...         1485      48   \n",
       "1      https://treesandwoods.com/using-sycamore-wood          359      27   \n",
       "2  https://treesandwoods.com/the-pomegranate-root...          254      23   \n",
       "3       https://treesandwoods.com/sycamore-tree-root          349      20   \n",
       "4       https://treesandwoods.com/sequoia-tree-seeds          408      15   \n",
       "\n",
       "   Document size  Backlinks  \n",
       "0          95485          0  \n",
       "1          92243          0  \n",
       "2         101972          0  \n",
       "3          97375          1  \n",
       "4          96821          0  "
      ]
     },
     "execution_count": 74,
     "metadata": {},
     "output_type": "execute_result"
    }
   ],
   "source": [
    "df = pd.read_csv(r\"C:\\Users\\Neptune\\Downloads\\treesandwoods.com_SiteExplorerUrls_4_10_2025.csv\")\n",
    "df.head()"
   ]
  },
  {
   "cell_type": "code",
   "execution_count": 82,
   "id": "b0718c37",
   "metadata": {},
   "outputs": [],
   "source": [
    "url_to_array = df[\"URL\"].to_numpy()"
   ]
  },
  {
   "cell_type": "code",
   "execution_count": 92,
   "id": "a472dc21",
   "metadata": {},
   "outputs": [],
   "source": [
    "url_len = []\n",
    "for i in url_to_array:\n",
    "    url_len.append(len(i))"
   ]
  },
  {
   "cell_type": "code",
   "execution_count": 93,
   "id": "dee8db58",
   "metadata": {},
   "outputs": [
    {
     "name": "stdout",
     "output_type": "stream",
     "text": [
      "[67, 45, 53, 44, 44, 51, 55, 56, 53, 46, 51, 63, 57, 59, 44, 51, 54, 55, 49, 54, 56, 47, 60, 56, 59, 57, 54, 45, 99, 51, 55, 56, 55, 55, 59, 57, 49, 55, 62, 51, 55, 56, 57, 25, 54, 77, 56, 62, 55, 45, 59, 62, 54, 52, 63, 57, 53, 49, 55, 66, 60, 60, 50, 53, 49, 87, 63, 50, 64, 54, 54, 46, 67, 58, 54, 48, 73, 51, 58, 58, 62, 50]\n"
     ]
    }
   ],
   "source": [
    "print(url_len)"
   ]
  },
  {
   "cell_type": "code",
   "execution_count": 99,
   "id": "d35e97f2",
   "metadata": {},
   "outputs": [
    {
     "data": {
      "text/plain": [
       "67"
      ]
     },
     "execution_count": 99,
     "metadata": {},
     "output_type": "execute_result"
    }
   ],
   "source": [
    "len(df.iloc[0][\"URL\"])"
   ]
  },
  {
   "cell_type": "code",
   "execution_count": 94,
   "id": "8f78c856",
   "metadata": {},
   "outputs": [],
   "source": [
    "df.insert(loc = 1, value = url_len, column = \"url_len\")"
   ]
  },
  {
   "cell_type": "code",
   "execution_count": 95,
   "id": "ee8ef81c",
   "metadata": {},
   "outputs": [
    {
     "data": {
      "text/html": [
       "<div>\n",
       "<style scoped>\n",
       "    .dataframe tbody tr th:only-of-type {\n",
       "        vertical-align: middle;\n",
       "    }\n",
       "\n",
       "    .dataframe tbody tr th {\n",
       "        vertical-align: top;\n",
       "    }\n",
       "\n",
       "    .dataframe thead th {\n",
       "        text-align: right;\n",
       "    }\n",
       "</style>\n",
       "<table border=\"1\" class=\"dataframe\">\n",
       "  <thead>\n",
       "    <tr style=\"text-align: right;\">\n",
       "      <th></th>\n",
       "      <th>URL</th>\n",
       "      <th>url_len</th>\n",
       "      <th>Impressions</th>\n",
       "      <th>Clicks</th>\n",
       "      <th>Document size</th>\n",
       "      <th>Backlinks</th>\n",
       "    </tr>\n",
       "  </thead>\n",
       "  <tbody>\n",
       "    <tr>\n",
       "      <th>0</th>\n",
       "      <td>https://treesandwoods.com/giant-sequoias-frequ...</td>\n",
       "      <td>67</td>\n",
       "      <td>1485</td>\n",
       "      <td>48</td>\n",
       "      <td>95485</td>\n",
       "      <td>0</td>\n",
       "    </tr>\n",
       "    <tr>\n",
       "      <th>1</th>\n",
       "      <td>https://treesandwoods.com/using-sycamore-wood</td>\n",
       "      <td>45</td>\n",
       "      <td>359</td>\n",
       "      <td>27</td>\n",
       "      <td>92243</td>\n",
       "      <td>0</td>\n",
       "    </tr>\n",
       "    <tr>\n",
       "      <th>2</th>\n",
       "      <td>https://treesandwoods.com/the-pomegranate-root...</td>\n",
       "      <td>53</td>\n",
       "      <td>254</td>\n",
       "      <td>23</td>\n",
       "      <td>101972</td>\n",
       "      <td>0</td>\n",
       "    </tr>\n",
       "    <tr>\n",
       "      <th>3</th>\n",
       "      <td>https://treesandwoods.com/sycamore-tree-root</td>\n",
       "      <td>44</td>\n",
       "      <td>349</td>\n",
       "      <td>20</td>\n",
       "      <td>97375</td>\n",
       "      <td>1</td>\n",
       "    </tr>\n",
       "    <tr>\n",
       "      <th>4</th>\n",
       "      <td>https://treesandwoods.com/sequoia-tree-seeds</td>\n",
       "      <td>44</td>\n",
       "      <td>408</td>\n",
       "      <td>15</td>\n",
       "      <td>96821</td>\n",
       "      <td>0</td>\n",
       "    </tr>\n",
       "    <tr>\n",
       "      <th>...</th>\n",
       "      <td>...</td>\n",
       "      <td>...</td>\n",
       "      <td>...</td>\n",
       "      <td>...</td>\n",
       "      <td>...</td>\n",
       "      <td>...</td>\n",
       "    </tr>\n",
       "    <tr>\n",
       "      <th>77</th>\n",
       "      <td>https://treesandwoods.com/the-evolution-of-syc...</td>\n",
       "      <td>51</td>\n",
       "      <td>18</td>\n",
       "      <td>0</td>\n",
       "      <td>88633</td>\n",
       "      <td>0</td>\n",
       "    </tr>\n",
       "    <tr>\n",
       "      <th>78</th>\n",
       "      <td>https://treesandwoods.com/what-are-pomegranate...</td>\n",
       "      <td>58</td>\n",
       "      <td>25</td>\n",
       "      <td>0</td>\n",
       "      <td>98018</td>\n",
       "      <td>0</td>\n",
       "    </tr>\n",
       "    <tr>\n",
       "      <th>79</th>\n",
       "      <td>https://treesandwoods.com/sycamore-tree-planti...</td>\n",
       "      <td>58</td>\n",
       "      <td>19</td>\n",
       "      <td>0</td>\n",
       "      <td>93691</td>\n",
       "      <td>0</td>\n",
       "    </tr>\n",
       "    <tr>\n",
       "      <th>80</th>\n",
       "      <td>https://treesandwoods.com/avoiding-problems-wi...</td>\n",
       "      <td>62</td>\n",
       "      <td>16</td>\n",
       "      <td>0</td>\n",
       "      <td>93023</td>\n",
       "      <td>0</td>\n",
       "    </tr>\n",
       "    <tr>\n",
       "      <th>81</th>\n",
       "      <td>https://treesandwoods.com/if-almond-seeds-are-...</td>\n",
       "      <td>50</td>\n",
       "      <td>2</td>\n",
       "      <td>0</td>\n",
       "      <td>90004</td>\n",
       "      <td>0</td>\n",
       "    </tr>\n",
       "  </tbody>\n",
       "</table>\n",
       "<p>82 rows × 6 columns</p>\n",
       "</div>"
      ],
      "text/plain": [
       "                                                  URL  url_len  Impressions  \\\n",
       "0   https://treesandwoods.com/giant-sequoias-frequ...       67         1485   \n",
       "1       https://treesandwoods.com/using-sycamore-wood       45          359   \n",
       "2   https://treesandwoods.com/the-pomegranate-root...       53          254   \n",
       "3        https://treesandwoods.com/sycamore-tree-root       44          349   \n",
       "4        https://treesandwoods.com/sequoia-tree-seeds       44          408   \n",
       "..                                                ...      ...          ...   \n",
       "77  https://treesandwoods.com/the-evolution-of-syc...       51           18   \n",
       "78  https://treesandwoods.com/what-are-pomegranate...       58           25   \n",
       "79  https://treesandwoods.com/sycamore-tree-planti...       58           19   \n",
       "80  https://treesandwoods.com/avoiding-problems-wi...       62           16   \n",
       "81  https://treesandwoods.com/if-almond-seeds-are-...       50            2   \n",
       "\n",
       "    Clicks  Document size  Backlinks  \n",
       "0       48          95485          0  \n",
       "1       27          92243          0  \n",
       "2       23         101972          0  \n",
       "3       20          97375          1  \n",
       "4       15          96821          0  \n",
       "..     ...            ...        ...  \n",
       "77       0          88633          0  \n",
       "78       0          98018          0  \n",
       "79       0          93691          0  \n",
       "80       0          93023          0  \n",
       "81       0          90004          0  \n",
       "\n",
       "[82 rows x 6 columns]"
      ]
     },
     "execution_count": 95,
     "metadata": {},
     "output_type": "execute_result"
    }
   ],
   "source": [
    "df"
   ]
  },
  {
   "cell_type": "code",
   "execution_count": 88,
   "id": "261ddef7",
   "metadata": {},
   "outputs": [
    {
     "data": {
      "text/plain": [
       "(82, 5)"
      ]
     },
     "execution_count": 88,
     "metadata": {},
     "output_type": "execute_result"
    }
   ],
   "source": [
    "df.shape"
   ]
  },
  {
   "cell_type": "code",
   "execution_count": 91,
   "id": "8bcce1c3",
   "metadata": {},
   "outputs": [
    {
     "data": {
      "text/plain": [
       "11"
      ]
     },
     "execution_count": 91,
     "metadata": {},
     "output_type": "execute_result"
    }
   ],
   "source": [
    "len(\"Hello world\")"
   ]
  },
  {
   "cell_type": "code",
   "execution_count": 90,
   "id": "fc43a1a0",
   "metadata": {},
   "outputs": [
    {
     "data": {
      "text/html": [
       "<div>\n",
       "<style scoped>\n",
       "    .dataframe tbody tr th:only-of-type {\n",
       "        vertical-align: middle;\n",
       "    }\n",
       "\n",
       "    .dataframe tbody tr th {\n",
       "        vertical-align: top;\n",
       "    }\n",
       "\n",
       "    .dataframe thead th {\n",
       "        text-align: right;\n",
       "    }\n",
       "</style>\n",
       "<table border=\"1\" class=\"dataframe\">\n",
       "  <thead>\n",
       "    <tr style=\"text-align: right;\">\n",
       "      <th></th>\n",
       "      <th>URL</th>\n",
       "      <th>Impressions</th>\n",
       "      <th>Clicks</th>\n",
       "      <th>Document size</th>\n",
       "      <th>Backlinks</th>\n",
       "    </tr>\n",
       "  </thead>\n",
       "  <tbody>\n",
       "    <tr>\n",
       "      <th>0</th>\n",
       "      <td>https://treesandwoods.com/giant-sequoias-frequ...</td>\n",
       "      <td>1485</td>\n",
       "      <td>48</td>\n",
       "      <td>95485</td>\n",
       "      <td>0</td>\n",
       "    </tr>\n",
       "    <tr>\n",
       "      <th>1</th>\n",
       "      <td>https://treesandwoods.com/using-sycamore-wood</td>\n",
       "      <td>359</td>\n",
       "      <td>27</td>\n",
       "      <td>92243</td>\n",
       "      <td>0</td>\n",
       "    </tr>\n",
       "    <tr>\n",
       "      <th>2</th>\n",
       "      <td>https://treesandwoods.com/the-pomegranate-root...</td>\n",
       "      <td>254</td>\n",
       "      <td>23</td>\n",
       "      <td>101972</td>\n",
       "      <td>0</td>\n",
       "    </tr>\n",
       "    <tr>\n",
       "      <th>3</th>\n",
       "      <td>https://treesandwoods.com/sycamore-tree-root</td>\n",
       "      <td>349</td>\n",
       "      <td>20</td>\n",
       "      <td>97375</td>\n",
       "      <td>1</td>\n",
       "    </tr>\n",
       "    <tr>\n",
       "      <th>4</th>\n",
       "      <td>https://treesandwoods.com/sequoia-tree-seeds</td>\n",
       "      <td>408</td>\n",
       "      <td>15</td>\n",
       "      <td>96821</td>\n",
       "      <td>0</td>\n",
       "    </tr>\n",
       "  </tbody>\n",
       "</table>\n",
       "</div>"
      ],
      "text/plain": [
       "                                                 URL  Impressions  Clicks  \\\n",
       "0  https://treesandwoods.com/giant-sequoias-frequ...         1485      48   \n",
       "1      https://treesandwoods.com/using-sycamore-wood          359      27   \n",
       "2  https://treesandwoods.com/the-pomegranate-root...          254      23   \n",
       "3       https://treesandwoods.com/sycamore-tree-root          349      20   \n",
       "4       https://treesandwoods.com/sequoia-tree-seeds          408      15   \n",
       "\n",
       "   Document size  Backlinks  \n",
       "0          95485          0  \n",
       "1          92243          0  \n",
       "2         101972          0  \n",
       "3          97375          1  \n",
       "4          96821          0  "
      ]
     },
     "execution_count": 90,
     "metadata": {},
     "output_type": "execute_result"
    }
   ],
   "source": [
    "df.iloc[:5]"
   ]
  },
  {
   "cell_type": "code",
   "execution_count": 100,
   "id": "8ec72064",
   "metadata": {},
   "outputs": [
    {
     "data": {
      "text/html": [
       "<div>\n",
       "<style scoped>\n",
       "    .dataframe tbody tr th:only-of-type {\n",
       "        vertical-align: middle;\n",
       "    }\n",
       "\n",
       "    .dataframe tbody tr th {\n",
       "        vertical-align: top;\n",
       "    }\n",
       "\n",
       "    .dataframe thead th {\n",
       "        text-align: right;\n",
       "    }\n",
       "</style>\n",
       "<table border=\"1\" class=\"dataframe\">\n",
       "  <thead>\n",
       "    <tr style=\"text-align: right;\">\n",
       "      <th></th>\n",
       "      <th>URL</th>\n",
       "      <th>url_len</th>\n",
       "      <th>Impressions</th>\n",
       "      <th>Clicks</th>\n",
       "      <th>Document size</th>\n",
       "      <th>Backlinks</th>\n",
       "    </tr>\n",
       "  </thead>\n",
       "  <tbody>\n",
       "    <tr>\n",
       "      <th>0</th>\n",
       "      <td>https://treesandwoods.com/giant-sequoias-frequ...</td>\n",
       "      <td>67</td>\n",
       "      <td>1485</td>\n",
       "      <td>48</td>\n",
       "      <td>95485</td>\n",
       "      <td>0</td>\n",
       "    </tr>\n",
       "    <tr>\n",
       "      <th>1</th>\n",
       "      <td>https://treesandwoods.com/using-sycamore-wood</td>\n",
       "      <td>45</td>\n",
       "      <td>359</td>\n",
       "      <td>27</td>\n",
       "      <td>92243</td>\n",
       "      <td>0</td>\n",
       "    </tr>\n",
       "    <tr>\n",
       "      <th>2</th>\n",
       "      <td>https://treesandwoods.com/the-pomegranate-root...</td>\n",
       "      <td>53</td>\n",
       "      <td>254</td>\n",
       "      <td>23</td>\n",
       "      <td>101972</td>\n",
       "      <td>0</td>\n",
       "    </tr>\n",
       "    <tr>\n",
       "      <th>3</th>\n",
       "      <td>https://treesandwoods.com/sycamore-tree-root</td>\n",
       "      <td>44</td>\n",
       "      <td>349</td>\n",
       "      <td>20</td>\n",
       "      <td>97375</td>\n",
       "      <td>1</td>\n",
       "    </tr>\n",
       "    <tr>\n",
       "      <th>4</th>\n",
       "      <td>https://treesandwoods.com/sequoia-tree-seeds</td>\n",
       "      <td>44</td>\n",
       "      <td>408</td>\n",
       "      <td>15</td>\n",
       "      <td>96821</td>\n",
       "      <td>0</td>\n",
       "    </tr>\n",
       "    <tr>\n",
       "      <th>...</th>\n",
       "      <td>...</td>\n",
       "      <td>...</td>\n",
       "      <td>...</td>\n",
       "      <td>...</td>\n",
       "      <td>...</td>\n",
       "      <td>...</td>\n",
       "    </tr>\n",
       "    <tr>\n",
       "      <th>77</th>\n",
       "      <td>https://treesandwoods.com/the-evolution-of-syc...</td>\n",
       "      <td>51</td>\n",
       "      <td>18</td>\n",
       "      <td>0</td>\n",
       "      <td>88633</td>\n",
       "      <td>0</td>\n",
       "    </tr>\n",
       "    <tr>\n",
       "      <th>78</th>\n",
       "      <td>https://treesandwoods.com/what-are-pomegranate...</td>\n",
       "      <td>58</td>\n",
       "      <td>25</td>\n",
       "      <td>0</td>\n",
       "      <td>98018</td>\n",
       "      <td>0</td>\n",
       "    </tr>\n",
       "    <tr>\n",
       "      <th>79</th>\n",
       "      <td>https://treesandwoods.com/sycamore-tree-planti...</td>\n",
       "      <td>58</td>\n",
       "      <td>19</td>\n",
       "      <td>0</td>\n",
       "      <td>93691</td>\n",
       "      <td>0</td>\n",
       "    </tr>\n",
       "    <tr>\n",
       "      <th>80</th>\n",
       "      <td>https://treesandwoods.com/avoiding-problems-wi...</td>\n",
       "      <td>62</td>\n",
       "      <td>16</td>\n",
       "      <td>0</td>\n",
       "      <td>93023</td>\n",
       "      <td>0</td>\n",
       "    </tr>\n",
       "    <tr>\n",
       "      <th>81</th>\n",
       "      <td>https://treesandwoods.com/if-almond-seeds-are-...</td>\n",
       "      <td>50</td>\n",
       "      <td>2</td>\n",
       "      <td>0</td>\n",
       "      <td>90004</td>\n",
       "      <td>0</td>\n",
       "    </tr>\n",
       "  </tbody>\n",
       "</table>\n",
       "<p>82 rows × 6 columns</p>\n",
       "</div>"
      ],
      "text/plain": [
       "                                                  URL  url_len  Impressions  \\\n",
       "0   https://treesandwoods.com/giant-sequoias-frequ...       67         1485   \n",
       "1       https://treesandwoods.com/using-sycamore-wood       45          359   \n",
       "2   https://treesandwoods.com/the-pomegranate-root...       53          254   \n",
       "3        https://treesandwoods.com/sycamore-tree-root       44          349   \n",
       "4        https://treesandwoods.com/sequoia-tree-seeds       44          408   \n",
       "..                                                ...      ...          ...   \n",
       "77  https://treesandwoods.com/the-evolution-of-syc...       51           18   \n",
       "78  https://treesandwoods.com/what-are-pomegranate...       58           25   \n",
       "79  https://treesandwoods.com/sycamore-tree-planti...       58           19   \n",
       "80  https://treesandwoods.com/avoiding-problems-wi...       62           16   \n",
       "81  https://treesandwoods.com/if-almond-seeds-are-...       50            2   \n",
       "\n",
       "    Clicks  Document size  Backlinks  \n",
       "0       48          95485          0  \n",
       "1       27          92243          0  \n",
       "2       23         101972          0  \n",
       "3       20          97375          1  \n",
       "4       15          96821          0  \n",
       "..     ...            ...        ...  \n",
       "77       0          88633          0  \n",
       "78       0          98018          0  \n",
       "79       0          93691          0  \n",
       "80       0          93023          0  \n",
       "81       0          90004          0  \n",
       "\n",
       "[82 rows x 6 columns]"
      ]
     },
     "execution_count": 100,
     "metadata": {},
     "output_type": "execute_result"
    }
   ],
   "source": [
    "df"
   ]
  },
  {
   "cell_type": "code",
   "execution_count": 103,
   "id": "ba13a134",
   "metadata": {},
   "outputs": [
    {
     "data": {
      "text/html": [
       "<div>\n",
       "<style scoped>\n",
       "    .dataframe tbody tr th:only-of-type {\n",
       "        vertical-align: middle;\n",
       "    }\n",
       "\n",
       "    .dataframe tbody tr th {\n",
       "        vertical-align: top;\n",
       "    }\n",
       "\n",
       "    .dataframe thead th {\n",
       "        text-align: right;\n",
       "    }\n",
       "</style>\n",
       "<table border=\"1\" class=\"dataframe\">\n",
       "  <thead>\n",
       "    <tr style=\"text-align: right;\">\n",
       "      <th></th>\n",
       "      <th>Clicks</th>\n",
       "      <th>Impressions</th>\n",
       "      <th>Document size</th>\n",
       "      <th>Backlinks</th>\n",
       "      <th>url_len</th>\n",
       "    </tr>\n",
       "  </thead>\n",
       "  <tbody>\n",
       "    <tr>\n",
       "      <th>Clicks</th>\n",
       "      <td>1.000000</td>\n",
       "      <td>0.826268</td>\n",
       "      <td>0.107419</td>\n",
       "      <td>0.064467</td>\n",
       "      <td>-0.089427</td>\n",
       "    </tr>\n",
       "    <tr>\n",
       "      <th>Impressions</th>\n",
       "      <td>0.826268</td>\n",
       "      <td>1.000000</td>\n",
       "      <td>0.103857</td>\n",
       "      <td>0.030195</td>\n",
       "      <td>-0.107006</td>\n",
       "    </tr>\n",
       "    <tr>\n",
       "      <th>Document size</th>\n",
       "      <td>0.107419</td>\n",
       "      <td>0.103857</td>\n",
       "      <td>1.000000</td>\n",
       "      <td>0.064761</td>\n",
       "      <td>-0.116060</td>\n",
       "    </tr>\n",
       "    <tr>\n",
       "      <th>Backlinks</th>\n",
       "      <td>0.064467</td>\n",
       "      <td>0.030195</td>\n",
       "      <td>0.064761</td>\n",
       "      <td>1.000000</td>\n",
       "      <td>-0.088687</td>\n",
       "    </tr>\n",
       "    <tr>\n",
       "      <th>url_len</th>\n",
       "      <td>-0.089427</td>\n",
       "      <td>-0.107006</td>\n",
       "      <td>-0.116060</td>\n",
       "      <td>-0.088687</td>\n",
       "      <td>1.000000</td>\n",
       "    </tr>\n",
       "  </tbody>\n",
       "</table>\n",
       "</div>"
      ],
      "text/plain": [
       "                 Clicks  Impressions  Document size  Backlinks   url_len\n",
       "Clicks         1.000000     0.826268       0.107419   0.064467 -0.089427\n",
       "Impressions    0.826268     1.000000       0.103857   0.030195 -0.107006\n",
       "Document size  0.107419     0.103857       1.000000   0.064761 -0.116060\n",
       "Backlinks      0.064467     0.030195       0.064761   1.000000 -0.088687\n",
       "url_len       -0.089427    -0.107006      -0.116060  -0.088687  1.000000"
      ]
     },
     "execution_count": 103,
     "metadata": {},
     "output_type": "execute_result"
    }
   ],
   "source": [
    "## To Get the Relationship between Clicks and Document size\n",
    "df1 = df[[\"Clicks\", \"Impressions\", \"Document size\", \"Backlinks\", \"url_len\"]]\n",
    "corr = df1.corr()\n",
    "corr"
   ]
  },
  {
   "cell_type": "code",
   "execution_count": 104,
   "id": "ad5c899f",
   "metadata": {},
   "outputs": [
    {
     "data": {
      "image/png": "[encoded data removed]",
      "text/plain": [
       "<Figure size 640x480 with 2 Axes>"
      ]
     },
     "metadata": {},
     "output_type": "display_data"
    }
   ],
   "source": [
    "sns.heatmap(corr, annot = True, fmt = \"0.1g\")\n",
    "plt.show()"
   ]
  },
  {
   "cell_type": "code",
   "execution_count": 30,
   "id": "9fedc57e",
   "metadata": {},
   "outputs": [
    {
     "data": {
      "image/png": "[encoded data removed]",
      "text/plain": [
       "<Figure size 1000x500 with 1 Axes>"
      ]
     },
     "metadata": {},
     "output_type": "display_data"
    }
   ],
   "source": [
    "plt.figure(figsize = (10, 5))\n",
    "sns.barplot(df, x = \"Clicks\", y = \"Impressions\")\n",
    "plt.show()"
   ]
  },
  {
   "cell_type": "code",
   "execution_count": 105,
   "id": "8e08e726",
   "metadata": {},
   "outputs": [
    {
     "data": {
      "image/png": "[encoded data removed]",
      "text/plain": [
       "<Figure size 640x480 with 1 Axes>"
      ]
     },
     "metadata": {},
     "output_type": "display_data"
    }
   ],
   "source": [
    "sns.regplot(df, x = \"url_len\", y = \"Clicks\")\n",
    "plt.show()"
   ]
  },
  {
   "cell_type": "code",
   "execution_count": null,
   "id": "5ad4f193",
   "metadata": {},
   "outputs": [],
   "source": []
  }
 ],
 "metadata": {
  "kernelspec": {
   "display_name": "Python 3",
   "language": "python",
   "name": "python3"
  },
  "language_info": {
   "codemirror_mode": {
    "name": "ipython",
    "version": 3
   },
   "file_extension": ".py",
   "mimetype": "text/x-python",
   "name": "python",
   "nbconvert_exporter": "python",
   "pygments_lexer": "ipython3",
   "version": "3.13.2"
  }
 },
 "nbformat": 4,
 "nbformat_minor": 5
}
